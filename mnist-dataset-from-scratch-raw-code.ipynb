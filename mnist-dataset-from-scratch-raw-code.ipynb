{
 "cells": [
  {
   "cell_type": "code",
   "execution_count": 1,
   "id": "4462e575",
   "metadata": {
    "_cell_guid": "b1076dfc-b9ad-4769-8c92-a6c4dae69d19",
    "_uuid": "8f2839f25d086af736a60e9eeb907d3b93b6e0e5",
    "execution": {
     "iopub.execute_input": "2025-08-29T10:53:18.315486Z",
     "iopub.status.busy": "2025-08-29T10:53:18.315128Z",
     "iopub.status.idle": "2025-08-29T10:53:23.732845Z",
     "shell.execute_reply": "2025-08-29T10:53:23.732052Z"
    },
    "papermill": {
     "duration": 5.424536,
     "end_time": "2025-08-29T10:53:23.734535",
     "exception": false,
     "start_time": "2025-08-29T10:53:18.309999",
     "status": "completed"
    },
    "tags": []
   },
   "outputs": [],
   "source": [
    "import numpy as np\n",
    "import pandas as pd\n",
    "from matplotlib import pyplot as plt\n",
    "data = pd.read_csv('/kaggle/input/digit-recognizer/train.csv')"
   ]
  },
  {
   "cell_type": "code",
   "execution_count": 2,
   "id": "ed126e37",
   "metadata": {
    "execution": {
     "iopub.execute_input": "2025-08-29T10:53:23.742650Z",
     "iopub.status.busy": "2025-08-29T10:53:23.742278Z",
     "iopub.status.idle": "2025-08-29T10:53:23.773015Z",
     "shell.execute_reply": "2025-08-29T10:53:23.771908Z"
    },
    "papermill": {
     "duration": 0.036327,
     "end_time": "2025-08-29T10:53:23.774566",
     "exception": false,
     "start_time": "2025-08-29T10:53:23.738239",
     "status": "completed"
    },
    "tags": []
   },
   "outputs": [
    {
     "data": {
      "text/html": [
       "<div>\n",
       "<style scoped>\n",
       "    .dataframe tbody tr th:only-of-type {\n",
       "        vertical-align: middle;\n",
       "    }\n",
       "\n",
       "    .dataframe tbody tr th {\n",
       "        vertical-align: top;\n",
       "    }\n",
       "\n",
       "    .dataframe thead th {\n",
       "        text-align: right;\n",
       "    }\n",
       "</style>\n",
       "<table border=\"1\" class=\"dataframe\">\n",
       "  <thead>\n",
       "    <tr style=\"text-align: right;\">\n",
       "      <th></th>\n",
       "      <th>label</th>\n",
       "      <th>pixel0</th>\n",
       "      <th>pixel1</th>\n",
       "      <th>pixel2</th>\n",
       "      <th>pixel3</th>\n",
       "      <th>pixel4</th>\n",
       "      <th>pixel5</th>\n",
       "      <th>pixel6</th>\n",
       "      <th>pixel7</th>\n",
       "      <th>pixel8</th>\n",
       "      <th>...</th>\n",
       "      <th>pixel774</th>\n",
       "      <th>pixel775</th>\n",
       "      <th>pixel776</th>\n",
       "      <th>pixel777</th>\n",
       "      <th>pixel778</th>\n",
       "      <th>pixel779</th>\n",
       "      <th>pixel780</th>\n",
       "      <th>pixel781</th>\n",
       "      <th>pixel782</th>\n",
       "      <th>pixel783</th>\n",
       "    </tr>\n",
       "  </thead>\n",
       "  <tbody>\n",
       "    <tr>\n",
       "      <th>0</th>\n",
       "      <td>1</td>\n",
       "      <td>0</td>\n",
       "      <td>0</td>\n",
       "      <td>0</td>\n",
       "      <td>0</td>\n",
       "      <td>0</td>\n",
       "      <td>0</td>\n",
       "      <td>0</td>\n",
       "      <td>0</td>\n",
       "      <td>0</td>\n",
       "      <td>...</td>\n",
       "      <td>0</td>\n",
       "      <td>0</td>\n",
       "      <td>0</td>\n",
       "      <td>0</td>\n",
       "      <td>0</td>\n",
       "      <td>0</td>\n",
       "      <td>0</td>\n",
       "      <td>0</td>\n",
       "      <td>0</td>\n",
       "      <td>0</td>\n",
       "    </tr>\n",
       "    <tr>\n",
       "      <th>1</th>\n",
       "      <td>0</td>\n",
       "      <td>0</td>\n",
       "      <td>0</td>\n",
       "      <td>0</td>\n",
       "      <td>0</td>\n",
       "      <td>0</td>\n",
       "      <td>0</td>\n",
       "      <td>0</td>\n",
       "      <td>0</td>\n",
       "      <td>0</td>\n",
       "      <td>...</td>\n",
       "      <td>0</td>\n",
       "      <td>0</td>\n",
       "      <td>0</td>\n",
       "      <td>0</td>\n",
       "      <td>0</td>\n",
       "      <td>0</td>\n",
       "      <td>0</td>\n",
       "      <td>0</td>\n",
       "      <td>0</td>\n",
       "      <td>0</td>\n",
       "    </tr>\n",
       "    <tr>\n",
       "      <th>2</th>\n",
       "      <td>1</td>\n",
       "      <td>0</td>\n",
       "      <td>0</td>\n",
       "      <td>0</td>\n",
       "      <td>0</td>\n",
       "      <td>0</td>\n",
       "      <td>0</td>\n",
       "      <td>0</td>\n",
       "      <td>0</td>\n",
       "      <td>0</td>\n",
       "      <td>...</td>\n",
       "      <td>0</td>\n",
       "      <td>0</td>\n",
       "      <td>0</td>\n",
       "      <td>0</td>\n",
       "      <td>0</td>\n",
       "      <td>0</td>\n",
       "      <td>0</td>\n",
       "      <td>0</td>\n",
       "      <td>0</td>\n",
       "      <td>0</td>\n",
       "    </tr>\n",
       "    <tr>\n",
       "      <th>3</th>\n",
       "      <td>4</td>\n",
       "      <td>0</td>\n",
       "      <td>0</td>\n",
       "      <td>0</td>\n",
       "      <td>0</td>\n",
       "      <td>0</td>\n",
       "      <td>0</td>\n",
       "      <td>0</td>\n",
       "      <td>0</td>\n",
       "      <td>0</td>\n",
       "      <td>...</td>\n",
       "      <td>0</td>\n",
       "      <td>0</td>\n",
       "      <td>0</td>\n",
       "      <td>0</td>\n",
       "      <td>0</td>\n",
       "      <td>0</td>\n",
       "      <td>0</td>\n",
       "      <td>0</td>\n",
       "      <td>0</td>\n",
       "      <td>0</td>\n",
       "    </tr>\n",
       "    <tr>\n",
       "      <th>4</th>\n",
       "      <td>0</td>\n",
       "      <td>0</td>\n",
       "      <td>0</td>\n",
       "      <td>0</td>\n",
       "      <td>0</td>\n",
       "      <td>0</td>\n",
       "      <td>0</td>\n",
       "      <td>0</td>\n",
       "      <td>0</td>\n",
       "      <td>0</td>\n",
       "      <td>...</td>\n",
       "      <td>0</td>\n",
       "      <td>0</td>\n",
       "      <td>0</td>\n",
       "      <td>0</td>\n",
       "      <td>0</td>\n",
       "      <td>0</td>\n",
       "      <td>0</td>\n",
       "      <td>0</td>\n",
       "      <td>0</td>\n",
       "      <td>0</td>\n",
       "    </tr>\n",
       "  </tbody>\n",
       "</table>\n",
       "<p>5 rows × 785 columns</p>\n",
       "</div>"
      ],
      "text/plain": [
       "   label  pixel0  pixel1  pixel2  pixel3  pixel4  pixel5  pixel6  pixel7  \\\n",
       "0      1       0       0       0       0       0       0       0       0   \n",
       "1      0       0       0       0       0       0       0       0       0   \n",
       "2      1       0       0       0       0       0       0       0       0   \n",
       "3      4       0       0       0       0       0       0       0       0   \n",
       "4      0       0       0       0       0       0       0       0       0   \n",
       "\n",
       "   pixel8  ...  pixel774  pixel775  pixel776  pixel777  pixel778  pixel779  \\\n",
       "0       0  ...         0         0         0         0         0         0   \n",
       "1       0  ...         0         0         0         0         0         0   \n",
       "2       0  ...         0         0         0         0         0         0   \n",
       "3       0  ...         0         0         0         0         0         0   \n",
       "4       0  ...         0         0         0         0         0         0   \n",
       "\n",
       "   pixel780  pixel781  pixel782  pixel783  \n",
       "0         0         0         0         0  \n",
       "1         0         0         0         0  \n",
       "2         0         0         0         0  \n",
       "3         0         0         0         0  \n",
       "4         0         0         0         0  \n",
       "\n",
       "[5 rows x 785 columns]"
      ]
     },
     "execution_count": 2,
     "metadata": {},
     "output_type": "execute_result"
    }
   ],
   "source": [
    "data.head()"
   ]
  },
  {
   "cell_type": "code",
   "execution_count": 3,
   "id": "346f0237",
   "metadata": {
    "execution": {
     "iopub.execute_input": "2025-08-29T10:53:23.782508Z",
     "iopub.status.busy": "2025-08-29T10:53:23.782192Z",
     "iopub.status.idle": "2025-08-29T10:53:24.642156Z",
     "shell.execute_reply": "2025-08-29T10:53:24.641168Z"
    },
    "papermill": {
     "duration": 0.866055,
     "end_time": "2025-08-29T10:53:24.644072",
     "exception": false,
     "start_time": "2025-08-29T10:53:23.778017",
     "status": "completed"
    },
    "tags": []
   },
   "outputs": [],
   "source": [
    "data = np.array(data)\n",
    "m, n = data.shape\n",
    "np.random.shuffle(data) # shuffle your data before splitting\n",
    "\n",
    "data_rem = data[0:1000].T\n",
    "Y_rem = data_rem[0]\n",
    "X_rem = data_rem[1:n]\n",
    "X_rem = X_rem / 255\n",
    "\n",
    "data_train = data[1000:m].T\n",
    "Y_train = data_train[0]\n",
    "X_train = data_train[1:n]\n",
    "X_train = X_train / 255\n",
    "_,m_train = X_train.shape\n"
   ]
  },
  {
   "cell_type": "code",
   "execution_count": 4,
   "id": "d20c8b36",
   "metadata": {
    "execution": {
     "iopub.execute_input": "2025-08-29T10:53:24.652267Z",
     "iopub.status.busy": "2025-08-29T10:53:24.651958Z",
     "iopub.status.idle": "2025-08-29T10:53:24.658532Z",
     "shell.execute_reply": "2025-08-29T10:53:24.657454Z"
    },
    "papermill": {
     "duration": 0.012562,
     "end_time": "2025-08-29T10:53:24.660175",
     "exception": false,
     "start_time": "2025-08-29T10:53:24.647613",
     "status": "completed"
    },
    "tags": []
   },
   "outputs": [
    {
     "data": {
      "text/plain": [
       "array([7, 8, 4, ..., 1, 3, 4])"
      ]
     },
     "execution_count": 4,
     "metadata": {},
     "output_type": "execute_result"
    }
   ],
   "source": [
    "Y_train\n"
   ]
  },
  {
   "cell_type": "code",
   "execution_count": 5,
   "id": "e84db362",
   "metadata": {
    "execution": {
     "iopub.execute_input": "2025-08-29T10:53:24.668206Z",
     "iopub.status.busy": "2025-08-29T10:53:24.667868Z",
     "iopub.status.idle": "2025-08-29T10:53:24.674518Z",
     "shell.execute_reply": "2025-08-29T10:53:24.673551Z"
    },
    "papermill": {
     "duration": 0.012289,
     "end_time": "2025-08-29T10:53:24.675948",
     "exception": false,
     "start_time": "2025-08-29T10:53:24.663659",
     "status": "completed"
    },
    "tags": []
   },
   "outputs": [
    {
     "data": {
      "text/plain": [
       "(784,)"
      ]
     },
     "execution_count": 5,
     "metadata": {},
     "output_type": "execute_result"
    }
   ],
   "source": [
    "X_train [ :,0].shape"
   ]
  },
  {
   "cell_type": "markdown",
   "id": "59353304",
   "metadata": {
    "papermill": {
     "duration": 0.003073,
     "end_time": "2025-08-29T10:53:24.682464",
     "exception": false,
     "start_time": "2025-08-29T10:53:24.679391",
     "status": "completed"
    },
    "tags": []
   },
   "source": [
    "this is the first column and it has 784 pixels as input features. "
   ]
  },
  {
   "cell_type": "code",
   "execution_count": 6,
   "id": "e0f3bcd4",
   "metadata": {
    "execution": {
     "iopub.execute_input": "2025-08-29T10:53:24.690299Z",
     "iopub.status.busy": "2025-08-29T10:53:24.689981Z",
     "iopub.status.idle": "2025-08-29T10:53:24.700903Z",
     "shell.execute_reply": "2025-08-29T10:53:24.699999Z"
    },
    "papermill": {
     "duration": 0.016868,
     "end_time": "2025-08-29T10:53:24.702534",
     "exception": false,
     "start_time": "2025-08-29T10:53:24.685666",
     "status": "completed"
    },
    "tags": []
   },
   "outputs": [],
   "source": [
    "def init_params():\n",
    "    W1 = np.random.rand(10,784)-0.5\n",
    "    b1 = np.random.rand(10,1)-0.5\n",
    "    W2 = np.random.rand(10,10)-0.5\n",
    "    b2 = np.random.rand(10,1)-0.5\n",
    "    return W1, b1, W2, b2\n",
    "\n",
    "def ReLU(Z):\n",
    "    return np.maximum(Z,0)\n",
    "\n",
    "def softmax(Z):\n",
    "    A = np.exp(Z)/ sum(np.exp(Z))\n",
    "    return A\n",
    "    \n",
    "def forward_prop(W1, b1, W2, b2, X):\n",
    "    Z1 = W1.dot(X)+b1\n",
    "    A1 = ReLU(Z1)\n",
    "    Z2 = W2.dot(A1)+b2\n",
    "    A2 = softmax(Z2)\n",
    "    return Z1, A1, Z2, A2\n",
    "\n",
    "def deriv_ReLU(Z):\n",
    "    return Z > 0\n",
    "\n",
    "def one_hot(Y):\n",
    "    one_hot_Y = np.zeros((Y.size, Y.max()+ 1))\n",
    "    one_hot_Y [np.arange(Y.size), Y] = 1\n",
    "    one_hot_Y = one_hot_Y.T\n",
    "    return one_hot_Y\n",
    "\n",
    "def back_prop(Z1, A1, Z2, A2, W1, W2, X, Y,):\n",
    "    one_hot_Y = one_hot(Y)\n",
    "    dZ2 = A2 - one_hot_Y\n",
    "    dW2 = 1/m * dZ2.dot(A1.T)\n",
    "    db2 = 1/m * np.sum(dZ2)\n",
    "    dZ1 = W2.T.dot(dZ2) * deriv_ReLU(Z1)\n",
    "    dW1 = 1/m * dZ1.dot(X.T)\n",
    "    db1 = 1/m * np.sum(dZ1)\n",
    "    return dW1, db1, dW2, db2\n",
    "\n",
    "def update_param(W1, b1, W2, b2, dW1, db1, dW2, db2, alpha):\n",
    "    W1 = W1 - alpha * dW1\n",
    "    b1 = b1 - alpha * db1\n",
    "    W2 = W2 - alpha * dW2\n",
    "    b2 = b2 - alpha * db2\n",
    "    return W1, b1, W2, b2\n",
    "    \n",
    "    \n",
    "    "
   ]
  },
  {
   "cell_type": "markdown",
   "id": "a0a7a8a8",
   "metadata": {
    "papermill": {
     "duration": 0.003058,
     "end_time": "2025-08-29T10:53:24.709698",
     "exception": false,
     "start_time": "2025-08-29T10:53:24.706640",
     "status": "completed"
    },
    "tags": []
   },
   "source": []
  },
  {
   "cell_type": "code",
   "execution_count": 7,
   "id": "9d313a4c",
   "metadata": {
    "execution": {
     "iopub.execute_input": "2025-08-29T10:53:24.717636Z",
     "iopub.status.busy": "2025-08-29T10:53:24.717266Z",
     "iopub.status.idle": "2025-08-29T10:53:24.724693Z",
     "shell.execute_reply": "2025-08-29T10:53:24.723870Z"
    },
    "papermill": {
     "duration": 0.013234,
     "end_time": "2025-08-29T10:53:24.726271",
     "exception": false,
     "start_time": "2025-08-29T10:53:24.713037",
     "status": "completed"
    },
    "tags": []
   },
   "outputs": [],
   "source": [
    "def get_predictions(A2):\n",
    "    return np.argmax(A2, 0)\n",
    "\n",
    "def get_accuracy(predictions, Y):\n",
    "    print(predictions , Y)\n",
    "    return np.sum(predictions == Y) / Y.size\n",
    "    \n",
    "def gradient_descent (X, Y, alpha, iterations):\n",
    "    W1, b1, W2, b2 = init_params()\n",
    "    for i in range(iterations):\n",
    "       Z1, A1, Z2, A2 = forward_prop(W1, b1, W2, b2, X)\n",
    "       dW1, db1, dW2, db2 = back_prop(Z1, A1, Z2, A2,W1, W2, X, Y)\n",
    "       W1, b1, W2, b2 = update_param(W1, b1, W2, b2, dW1, db1, dW2, db2, alpha)\n",
    "       if i % 10 == 0:\n",
    "           print (\"Iteration: \", i)\n",
    "           predictions = get_predictions(A2)\n",
    "           print(get_accuracy(predictions, Y))\n",
    "\n",
    "    return W1, b1, W2, b2\n",
    "        "
   ]
  },
  {
   "cell_type": "code",
   "execution_count": 8,
   "id": "8cda33ca",
   "metadata": {
    "execution": {
     "iopub.execute_input": "2025-08-29T10:53:24.736491Z",
     "iopub.status.busy": "2025-08-29T10:53:24.736116Z",
     "iopub.status.idle": "2025-08-29T10:54:03.178914Z",
     "shell.execute_reply": "2025-08-29T10:54:03.178031Z"
    },
    "papermill": {
     "duration": 38.451168,
     "end_time": "2025-08-29T10:54:03.181008",
     "exception": false,
     "start_time": "2025-08-29T10:53:24.729840",
     "status": "completed"
    },
    "tags": []
   },
   "outputs": [
    {
     "name": "stdout",
     "output_type": "stream",
     "text": [
      "Iteration:  0\n",
      "[7 0 7 ... 7 0 8] [7 8 4 ... 1 3 4]\n",
      "0.12514634146341463\n",
      "Iteration:  10\n",
      "[2 0 7 ... 0 0 8] [7 8 4 ... 1 3 4]\n",
      "0.1728780487804878\n",
      "Iteration:  20\n",
      "[0 0 7 ... 0 0 0] [7 8 4 ... 1 3 4]\n",
      "0.2103170731707317\n",
      "Iteration:  30\n",
      "[0 0 7 ... 0 0 0] [7 8 4 ... 1 3 4]\n",
      "0.2669268292682927\n",
      "Iteration:  40\n",
      "[0 0 7 ... 1 0 0] [7 8 4 ... 1 3 4]\n",
      "0.31995121951219513\n",
      "Iteration:  50\n",
      "[0 0 7 ... 1 0 0] [7 8 4 ... 1 3 4]\n",
      "0.36521951219512194\n",
      "Iteration:  60\n",
      "[0 0 7 ... 1 0 6] [7 8 4 ... 1 3 4]\n",
      "0.40526829268292686\n",
      "Iteration:  70\n",
      "[8 0 7 ... 1 0 4] [7 8 4 ... 1 3 4]\n",
      "0.4498048780487805\n",
      "Iteration:  80\n",
      "[8 0 7 ... 1 0 4] [7 8 4 ... 1 3 4]\n",
      "0.49473170731707317\n",
      "Iteration:  90\n",
      "[8 0 7 ... 1 2 4] [7 8 4 ... 1 3 4]\n",
      "0.5317073170731708\n",
      "Iteration:  100\n",
      "[8 0 7 ... 1 2 4] [7 8 4 ... 1 3 4]\n",
      "0.5629512195121951\n",
      "Iteration:  110\n",
      "[8 0 7 ... 1 2 4] [7 8 4 ... 1 3 4]\n",
      "0.5912682926829268\n",
      "Iteration:  120\n",
      "[8 0 7 ... 1 2 4] [7 8 4 ... 1 3 4]\n",
      "0.618390243902439\n",
      "Iteration:  130\n",
      "[8 0 7 ... 1 2 4] [7 8 4 ... 1 3 4]\n",
      "0.6425609756097561\n",
      "Iteration:  140\n",
      "[8 0 9 ... 1 2 4] [7 8 4 ... 1 3 4]\n",
      "0.6637073170731708\n",
      "Iteration:  150\n",
      "[8 0 9 ... 1 2 4] [7 8 4 ... 1 3 4]\n",
      "0.6806829268292683\n",
      "Iteration:  160\n",
      "[8 0 9 ... 1 2 4] [7 8 4 ... 1 3 4]\n",
      "0.6958536585365853\n",
      "Iteration:  170\n",
      "[8 0 9 ... 1 2 4] [7 8 4 ... 1 3 4]\n",
      "0.7097317073170731\n",
      "Iteration:  180\n",
      "[8 8 9 ... 1 2 4] [7 8 4 ... 1 3 4]\n",
      "0.721609756097561\n",
      "Iteration:  190\n",
      "[8 8 9 ... 1 2 4] [7 8 4 ... 1 3 4]\n",
      "0.7323170731707317\n",
      "Iteration:  200\n",
      "[8 8 9 ... 1 2 4] [7 8 4 ... 1 3 4]\n",
      "0.7415853658536585\n",
      "Iteration:  210\n",
      "[8 8 9 ... 1 2 4] [7 8 4 ... 1 3 4]\n",
      "0.7492926829268293\n",
      "Iteration:  220\n",
      "[8 8 9 ... 1 2 4] [7 8 4 ... 1 3 4]\n",
      "0.7559756097560976\n",
      "Iteration:  230\n",
      "[8 8 9 ... 1 2 4] [7 8 4 ... 1 3 4]\n",
      "0.7630487804878049\n",
      "Iteration:  240\n",
      "[8 8 9 ... 1 3 4] [7 8 4 ... 1 3 4]\n",
      "0.769390243902439\n",
      "Iteration:  250\n",
      "[8 8 9 ... 1 3 4] [7 8 4 ... 1 3 4]\n",
      "0.7751219512195122\n",
      "Iteration:  260\n",
      "[8 8 9 ... 1 3 4] [7 8 4 ... 1 3 4]\n",
      "0.7806829268292683\n",
      "Iteration:  270\n",
      "[8 8 9 ... 1 3 4] [7 8 4 ... 1 3 4]\n",
      "0.7856585365853659\n",
      "Iteration:  280\n",
      "[8 8 9 ... 1 3 4] [7 8 4 ... 1 3 4]\n",
      "0.7902926829268293\n",
      "Iteration:  290\n",
      "[8 8 9 ... 1 3 4] [7 8 4 ... 1 3 4]\n",
      "0.794609756097561\n",
      "Iteration:  300\n",
      "[8 8 9 ... 1 3 4] [7 8 4 ... 1 3 4]\n",
      "0.7986585365853659\n",
      "Iteration:  310\n",
      "[8 8 9 ... 1 3 4] [7 8 4 ... 1 3 4]\n",
      "0.802829268292683\n",
      "Iteration:  320\n",
      "[8 8 9 ... 1 3 4] [7 8 4 ... 1 3 4]\n",
      "0.8068536585365854\n",
      "Iteration:  330\n",
      "[8 8 9 ... 1 3 4] [7 8 4 ... 1 3 4]\n",
      "0.8101219512195122\n",
      "Iteration:  340\n",
      "[8 8 9 ... 1 3 4] [7 8 4 ... 1 3 4]\n",
      "0.8137317073170731\n",
      "Iteration:  350\n",
      "[8 8 9 ... 1 3 4] [7 8 4 ... 1 3 4]\n",
      "0.8165365853658536\n",
      "Iteration:  360\n",
      "[8 8 9 ... 1 3 4] [7 8 4 ... 1 3 4]\n",
      "0.8191463414634146\n",
      "Iteration:  370\n",
      "[8 8 9 ... 1 3 4] [7 8 4 ... 1 3 4]\n",
      "0.8213658536585365\n",
      "Iteration:  380\n",
      "[2 8 9 ... 1 3 4] [7 8 4 ... 1 3 4]\n",
      "0.8241219512195121\n",
      "Iteration:  390\n",
      "[2 8 9 ... 1 3 4] [7 8 4 ... 1 3 4]\n",
      "0.826780487804878\n",
      "Iteration:  400\n",
      "[2 8 9 ... 1 3 4] [7 8 4 ... 1 3 4]\n",
      "0.8293170731707317\n",
      "Iteration:  410\n",
      "[2 8 9 ... 1 3 4] [7 8 4 ... 1 3 4]\n",
      "0.8316341463414634\n",
      "Iteration:  420\n",
      "[2 8 9 ... 1 3 4] [7 8 4 ... 1 3 4]\n",
      "0.8336341463414634\n",
      "Iteration:  430\n",
      "[2 8 9 ... 1 3 4] [7 8 4 ... 1 3 4]\n",
      "0.8355365853658536\n",
      "Iteration:  440\n",
      "[2 8 9 ... 1 3 4] [7 8 4 ... 1 3 4]\n",
      "0.837390243902439\n",
      "Iteration:  450\n",
      "[2 8 9 ... 1 3 4] [7 8 4 ... 1 3 4]\n",
      "0.8389512195121951\n",
      "Iteration:  460\n",
      "[2 8 9 ... 1 3 4] [7 8 4 ... 1 3 4]\n",
      "0.8408292682926829\n",
      "Iteration:  470\n",
      "[2 8 9 ... 1 3 4] [7 8 4 ... 1 3 4]\n",
      "0.8430243902439024\n",
      "Iteration:  480\n",
      "[2 8 9 ... 1 3 4] [7 8 4 ... 1 3 4]\n",
      "0.8446341463414634\n",
      "Iteration:  490\n",
      "[2 8 9 ... 1 3 4] [7 8 4 ... 1 3 4]\n",
      "0.8461463414634146\n"
     ]
    }
   ],
   "source": [
    "W1, b1, W2, b2 = gradient_descent(X_train, Y_train, 0.10, 500)"
   ]
  },
  {
   "cell_type": "code",
   "execution_count": 9,
   "id": "2c6827db",
   "metadata": {
    "execution": {
     "iopub.execute_input": "2025-08-29T10:54:03.195040Z",
     "iopub.status.busy": "2025-08-29T10:54:03.194685Z",
     "iopub.status.idle": "2025-08-29T10:54:03.201858Z",
     "shell.execute_reply": "2025-08-29T10:54:03.200888Z"
    },
    "papermill": {
     "duration": 0.016573,
     "end_time": "2025-08-29T10:54:03.203542",
     "exception": false,
     "start_time": "2025-08-29T10:54:03.186969",
     "status": "completed"
    },
    "tags": []
   },
   "outputs": [],
   "source": [
    "def make_predictions(X,W1, b1, W2, b2):\n",
    "    _, _,_, A2 = forward_prop(W1, b1, W2, b2, X)\n",
    "    predictions = get_predictions(A2)\n",
    "    return predictions\n",
    "\n",
    "def test_prediction(index, W1, b1, W2, b2):\n",
    "    current_image = X_train [:, index, None]\n",
    "    prediction = make_predictions(X_train[:, index, None], W1, b1, W2, b2)\n",
    "    label = Y_train[index]\n",
    "    print(\"Prediction: \", prediction)\n",
    "    print(\"Label: \", label)\n",
    "    \n",
    "    current_image = current_image.reshape((28,28)) * 255\n",
    "    plt.gray()\n",
    "    plt.imshow(current_image, interpolation= 'nearest')\n",
    "    plt.show()"
   ]
  },
  {
   "cell_type": "code",
   "execution_count": 10,
   "id": "a23a3331",
   "metadata": {
    "execution": {
     "iopub.execute_input": "2025-08-29T10:54:03.216756Z",
     "iopub.status.busy": "2025-08-29T10:54:03.216432Z",
     "iopub.status.idle": "2025-08-29T10:54:04.086318Z",
     "shell.execute_reply": "2025-08-29T10:54:04.085116Z"
    },
    "papermill": {
     "duration": 0.878381,
     "end_time": "2025-08-29T10:54:04.088060",
     "exception": false,
     "start_time": "2025-08-29T10:54:03.209679",
     "status": "completed"
    },
    "tags": []
   },
   "outputs": [
    {
     "name": "stdout",
     "output_type": "stream",
     "text": [
      "Prediction:  [2]\n",
      "Label:  7\n"
     ]
    },
    {
     "data": {
      "image/png": "[encoded data removed]",
      "text/plain": [
       "<Figure size 640x480 with 1 Axes>"
      ]
     },
     "metadata": {},
     "output_type": "display_data"
    },
    {
     "name": "stdout",
     "output_type": "stream",
     "text": [
      "Prediction:  [8]\n",
      "Label:  8\n"
     ]
    },
    {
     "data": {
      "image/png": "[encoded data removed]",
      "text/plain": [
       "<Figure size 640x480 with 1 Axes>"
      ]
     },
     "metadata": {},
     "output_type": "display_data"
    },
    {
     "name": "stdout",
     "output_type": "stream",
     "text": [
      "Prediction:  [9]\n",
      "Label:  4\n"
     ]
    },
    {
     "data": {
      "image/png": "[encoded data removed]",
      "text/plain": [
       "<Figure size 640x480 with 1 Axes>"
      ]
     },
     "metadata": {},
     "output_type": "display_data"
    },
    {
     "name": "stdout",
     "output_type": "stream",
     "text": [
      "Prediction:  [7]\n",
      "Label:  3\n"
     ]
    },
    {
     "data": {
      "image/png": "[encoded data removed]",
      "text/plain": [
       "<Figure size 640x480 with 1 Axes>"
      ]
     },
     "metadata": {},
     "output_type": "display_data"
    },
    {
     "name": "stdout",
     "output_type": "stream",
     "text": [
      "Prediction:  [3]\n",
      "Label:  3\n"
     ]
    },
    {
     "data": {
      "image/png": "[encoded data removed]",
      "text/plain": [
       "<Figure size 640x480 with 1 Axes>"
      ]
     },
     "metadata": {},
     "output_type": "display_data"
    }
   ],
   "source": [
    "test_prediction(0, W1, b1, W2, b2)\n",
    "test_prediction(1, W1, b1, W2, b2)\n",
    "test_prediction(2, W1, b1, W2, b2)\n",
    "test_prediction(3, W1, b1, W2, b2)\n",
    "test_prediction(6, W1, b1, W2, b2)"
   ]
  },
  {
   "cell_type": "code",
   "execution_count": 11,
   "id": "73b198fe",
   "metadata": {
    "execution": {
     "iopub.execute_input": "2025-08-29T10:54:04.103904Z",
     "iopub.status.busy": "2025-08-29T10:54:04.103576Z",
     "iopub.status.idle": "2025-08-29T10:54:04.117145Z",
     "shell.execute_reply": "2025-08-29T10:54:04.115840Z"
    },
    "papermill": {
     "duration": 0.023373,
     "end_time": "2025-08-29T10:54:04.118924",
     "exception": false,
     "start_time": "2025-08-29T10:54:04.095551",
     "status": "completed"
    },
    "tags": []
   },
   "outputs": [
    {
     "name": "stdout",
     "output_type": "stream",
     "text": [
      "[7 8 4 0 0 0 0 2 4 7 9 6 5 4 1 3 3 6 0 3 0 1 0 2 4 5 6 2 8 7 1 9 7 7 7 5 3\n",
      " 4 7 4 8 2 5 9 3 1 8 8 3 0 2 6 6 8 0 1 1 8 0 2 2 3 5 7 0 4 7 6 5 1 7 2 3 2\n",
      " 2 6 8 1 9 3 5 1 2 6 5 1 6 8 2 2 3 5 8 7 8 3 6 9 8 0 8 3 1 9 3 7 7 3 7 3 5\n",
      " 7 0 4 9 9 7 3 6 9 8 3 1 3 4 9 5 7 7 4 9 6 5 0 5 0 0 8 3 0 9 6 3 0 6 2 5 6\n",
      " 8 0 5 1 0 0 5 0 4 4 6 3 7 3 1 1 8 9 4 7 9 6 8 2 7 0 9 5 4 6 1 4 1 8 2 8 0\n",
      " 1 3 6 5 2 9 0 9 5 6 4 2 8 3 5 5 0 5 7 2 0 5 6 2 3 7 7 0 6 1 5 6 5 3 2 9 4\n",
      " 2 1 4 9 3 3 5 2 5 6 9 6 8 8 5 3 7 0 5 4 5 7 8 8 5 5 5 8 2 8 8 8 7 6 9 5 8\n",
      " 2 0 8 2 7 1 8 6 7 3 1 3 7 9 1 6 1 0 5 8 3 8 0 3 5 5 3 1 5 8 9 9 8 0 2 0 5\n",
      " 4 3 7 3 7 5 5 9 6 6 9 0 7 6 1 3 2 4 7 3 0 7 8 0 1 9 0 0 2 9 7 3 0 4 5 3 1\n",
      " 0 5 5 3 8 6 8 0 9 9 0 5 5 3 9 4 9 1 9 3 7 3 5 7 5 2 1 6 9 3 1 6 3 9 9 8 4\n",
      " 9 5 5 0 0 7 7 9 3 3 0 2 1 2 4 3 8 9 1 8 0 9 0 6 2 5 1 4 3 2 2 6 3 7 2 4 0\n",
      " 9 9 0 2 2 0 4 9 2 4 1 4 0 0 9 7 3 4 6 4 3 0 9 3 9 1 8 8 9 3 6 0 1 3 3 3 9\n",
      " 0 0 0 6 0 7 8 4 7 0 9 1 5 9 7 3 6 1 0 4 7 0 3 0 7 8 9 9 5 0 8 9 3 5 1 2 9\n",
      " 3 8 8 8 8 7 2 5 6 8 8 8 2 0 7 1 1 8 7 8 1 0 8 6 6 8 1 7 5 9 2 3 5 7 6 7 3\n",
      " 0 4 2 9 2 0 9 0 5 5 6 0 1 4 8 5 6 7 1 6 2 1 9 2 8 3 6 8 1 6 9 7 1 9 9 7 8\n",
      " 1 1 4 5 5 2 9 5 4 7 1 6 8 6 1 1 1 6 5 7 0 5 7 4 2 7 5 3 7 1 6 8 0 2 3 0 1\n",
      " 9 6 1 1 4 4 0 3 9 7 4 2 6 8 8 2 2 4 0 1 5 3 7 5 5 4 0 3 7 7 5 4 4 2 0 5 8\n",
      " 1 0 1 8 7 2 9 6 2 4 8 8 6 7 7 9 2 7 7 0 2 9 4 2 1 8 9 3 0 0 8 7 7 7 1 0 0\n",
      " 7 1 7 3 1 6 8 5 1 5 3 5 0 5 3 9 3 8 3 5 1 7 3 2 3 9 0 0 3 8 2 5 7 8 6 7 6\n",
      " 4 1 7 7 7 3 0 8 5 7 6 0 4 8 5 5 4 6 3 7 3 9 4 9 3 3 9 3 7 2 0 5 1 5 7 5 9\n",
      " 1 0 1 5 7 3 7 5 2 1 5 4 5 6 8 2 1 8 1 7 5 3 4 0 2 8 7 6 0 6 3 6 5 8 5 6 3\n",
      " 7 1 7 5 1 2 4 0 8 2 4 3 5 0 4 5 1 0 2 6 2 7 2 7 3 0 4 0 5 8 0 1 9 4 1 6 2\n",
      " 8 6 1 3 5 5 4 1 6 2 8 8 9 9 0 8 2 1 4 0 2 5 7 7 2 2 3 2 6 8 0 7 4 7 0 1 1\n",
      " 6 3 4 8 5 6 4 1 4 0 6 4 6 0 3 9 9 9 9 5 6 9 4 6 2 7 5 4 2 5 1 6 0 6 3 1 5\n",
      " 5 9 8 2 1 1 1 8 4 0 4 3 8 9 7 8 0 1 1 6 1 0 9 7 5 3 2 1 2 4 0 0 8 7 3 1 0\n",
      " 4 2 1 3 9 2 1 4 1 0 2 8 9 1 1 2 9 5 0 6 4 4 9 1 4 5 4 4 8 3 1 1 2 3 3 8 0\n",
      " 1 2 0 5 6 1 6 7 8 2 8 8 4 9 2 3 1 2 2 1 5 9 3 1 7 0 8 9 1 6 7 9 2 8 0 7 0\n",
      " 0] [7 5 8 0 0 0 8 2 4 7 4 6 5 4 1 3 3 6 0 3 0 1 0 2 4 8 6 2 8 7 1 9 7 7 7 5 3\n",
      " 4 7 4 8 2 3 9 3 1 8 8 3 0 2 6 6 8 3 1 1 8 0 2 2 3 5 9 5 6 7 6 5 1 7 1 3 8\n",
      " 2 7 1 1 9 2 5 1 2 6 5 1 6 8 2 2 3 5 8 7 8 3 6 5 8 7 8 3 1 9 3 7 7 3 7 3 5\n",
      " 7 0 4 9 9 7 8 6 9 4 2 1 3 4 9 5 7 7 4 4 6 5 0 5 0 0 9 3 0 9 6 3 0 6 2 5 6\n",
      " 8 0 5 1 0 0 5 0 4 4 6 3 7 3 1 1 1 9 4 7 9 6 8 3 7 0 7 5 4 6 1 4 1 8 7 8 0\n",
      " 1 3 8 5 2 9 0 9 5 6 4 2 8 3 5 3 0 5 7 8 0 0 6 2 5 7 7 0 6 1 5 6 5 3 2 9 4\n",
      " 2 1 6 9 3 3 5 2 5 5 9 6 8 8 5 3 7 0 5 4 5 7 8 8 6 3 5 8 2 8 8 8 7 6 9 5 6\n",
      " 2 0 8 2 7 7 8 6 7 3 1 3 7 9 1 6 1 0 8 8 3 8 0 3 5 5 3 1 5 8 9 9 8 0 2 0 5\n",
      " 4 8 7 3 7 5 5 9 6 6 9 0 7 6 1 5 2 4 7 4 0 7 5 0 1 9 0 0 2 9 7 3 0 4 0 3 1\n",
      " 0 5 5 3 8 6 8 0 9 9 0 3 5 9 7 4 9 1 9 3 7 5 5 7 5 2 1 6 8 3 1 6 3 9 9 8 4\n",
      " 9 5 5 0 0 7 7 9 3 3 0 2 1 2 4 3 8 9 1 8 0 9 0 6 2 3 7 4 3 2 2 6 1 7 2 4 0\n",
      " 9 5 0 5 2 0 4 9 2 6 1 4 0 0 4 7 3 4 6 4 3 0 9 3 9 1 8 8 3 8 6 0 1 3 3 3 9\n",
      " 0 0 0 6 0 7 8 4 7 0 8 1 5 9 2 3 6 1 0 4 7 0 3 0 9 8 9 9 5 8 8 9 3 5 1 2 9\n",
      " 3 8 8 8 8 7 1 5 6 8 8 8 2 0 7 1 1 8 7 8 1 0 8 6 6 8 1 7 5 9 2 3 5 9 6 7 9\n",
      " 5 4 2 9 2 0 9 0 5 5 6 0 1 4 8 5 6 7 1 6 2 1 9 2 8 3 6 9 1 4 9 7 1 9 9 7 8\n",
      " 1 1 4 3 5 0 7 3 4 7 1 6 8 6 7 1 1 4 5 7 0 3 7 7 2 7 5 3 9 1 5 5 0 2 3 0 1\n",
      " 9 6 1 1 4 4 0 3 9 7 4 2 6 5 8 2 2 4 0 1 5 3 7 5 3 4 0 5 8 7 5 4 4 2 0 5 8\n",
      " 1 0 6 8 7 3 9 6 2 9 8 8 6 7 7 9 3 7 7 0 2 9 4 2 1 8 9 3 0 0 8 7 7 7 1 0 0\n",
      " 7 1 7 3 1 8 8 5 1 5 3 5 0 5 3 9 3 5 9 3 1 7 3 2 3 3 0 0 3 8 2 5 7 8 6 7 6\n",
      " 9 1 7 7 7 3 0 8 4 7 6 0 4 8 5 5 4 6 3 7 3 9 4 4 3 3 9 3 7 2 0 5 1 5 7 5 7\n",
      " 1 0 1 5 7 3 7 5 2 1 3 4 5 6 8 2 1 8 1 7 5 3 4 0 2 6 7 6 0 6 3 6 9 9 5 6 3\n",
      " 7 1 7 5 1 2 4 0 8 5 4 3 5 0 4 5 1 0 2 6 2 7 2 7 3 0 4 0 3 8 0 1 4 4 1 6 2\n",
      " 9 6 1 3 5 5 4 1 6 2 8 5 9 4 0 8 2 1 4 2 2 8 7 7 2 2 3 6 6 8 0 7 4 7 0 1 1\n",
      " 6 3 4 8 0 6 9 1 4 0 6 4 3 0 3 9 9 9 9 7 0 9 4 6 2 7 5 4 6 5 1 6 0 6 3 1 5\n",
      " 5 9 8 2 1 1 1 8 4 0 4 5 8 9 7 2 0 1 1 6 1 0 9 8 3 3 2 1 2 4 0 0 0 7 3 1 0\n",
      " 4 2 1 3 9 2 1 4 1 2 2 8 9 1 1 2 7 5 0 6 4 4 9 1 4 5 4 4 4 8 1 1 2 3 3 8 0\n",
      " 1 2 0 1 6 1 6 7 8 2 8 8 4 9 2 3 8 2 2 1 5 5 3 1 7 0 8 9 1 2 7 9 2 8 0 7 0\n",
      " 0]\n"
     ]
    },
    {
     "data": {
      "text/plain": [
       "0.873"
      ]
     },
     "execution_count": 11,
     "metadata": {},
     "output_type": "execute_result"
    }
   ],
   "source": [
    "rem_predictions = make_predictions(X_rem, W1, b1, W2, b2)\n",
    "get_accuracy(rem_predictions, Y_rem)"
   ]
  }
 ],
 "metadata": {
  "kaggle": {
   "accelerator": "none",
   "dataSources": [
    {
     "databundleVersionId": 861823,
     "sourceId": 3004,
     "sourceType": "competition"
    }
   ],
   "dockerImageVersionId": 31089,
   "isGpuEnabled": false,
   "isInternetEnabled": false,
   "language": "python",
   "sourceType": "notebook"
  },
  "kernelspec": {
   "display_name": "Python 3",
   "language": "python",
   "name": "python3"
  },
  "language_info": {
   "codemirror_mode": {
    "name": "ipython",
    "version": 3
   },
   "file_extension": ".py",
   "mimetype": "text/x-python",
   "name": "python",
   "nbconvert_exporter": "python",
   "pygments_lexer": "ipython3",
   "version": "3.11.13"
  },
  "papermill": {
   "default_parameters": {},
   "duration": 52.304359,
   "end_time": "2025-08-29T10:54:04.746544",
   "environment_variables": {},
   "exception": null,
   "input_path": "__notebook__.ipynb",
   "output_path": "__notebook__.ipynb",
   "parameters": {},
   "start_time": "2025-08-29T10:53:12.442185",
   "version": "2.6.0"
  }
 },
 "nbformat": 4,
 "nbformat_minor": 5
}
